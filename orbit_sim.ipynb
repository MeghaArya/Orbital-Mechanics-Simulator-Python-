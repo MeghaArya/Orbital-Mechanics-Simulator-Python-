{
  "nbformat": 4,
  "nbformat_minor": 0,
  "metadata": {
    "colab": {
      "provenance": [],
      "authorship_tag": "ABX9TyMF8lAug/IL5AIipBz5gqLh",
      "include_colab_link": true
    },
    "kernelspec": {
      "name": "python3",
      "display_name": "Python 3"
    },
    "language_info": {
      "name": "python"
    }
  },
  "cells": [
    {
      "cell_type": "markdown",
      "metadata": {
        "id": "view-in-github",
        "colab_type": "text"
      },
      "source": [
        "<a href=\"https://colab.research.google.com/github/MeghaArya/Orbital-Mechanics-Simulator-Python-/blob/main/orbit_sim.ipynb\" target=\"_parent\"><img src=\"https://colab.research.google.com/assets/colab-badge.svg\" alt=\"Open In Colab\"/></a>"
      ]
    },
    {
      "cell_type": "code",
      "execution_count": null,
      "metadata": {
        "id": "QilcNZGyTnXC"
      },
      "outputs": [],
      "source": [
        "\n",
        "import numpy as np\n",
        "import matplotlib.pyplot as plt\n",
        "\n",
        "# Constants\n",
        "G = 6.674e-11      # gravitational constant (m^3 kg^-1 s^-2)\n",
        "M = 5.972e24       # mass of Earth (kg)\n",
        "R = 6.371e6        # radius of Earth (m)\n",
        "\n",
        "# Initial conditions\n",
        "r0 = np.array([R + 400e3, 0])   # 400 km altitude\n",
        "v0 = np.array([0, 7700])        # ~7.7 km/s orbital speed\n",
        "\n",
        "dt = 1       # timestep (s)\n",
        "t_max = 6000 # total simulation time (s)\n",
        "steps = int(t_max / dt)\n",
        "\n",
        "r, v = r0, v0\n",
        "positions = []\n",
        "\n",
        "for _ in range(steps):\n",
        "    r_mag = np.linalg.norm(r)\n",
        "    a = -(G * M / r_mag**3) * r  # acceleration\n",
        "    v += a * dt\n",
        "    r += v * dt\n",
        "    positions.append(r.copy())\n",
        "\n",
        "positions = np.array(positions)\n",
        "\n",
        "# Plot orbit\n",
        "plt.figure(figsize=(6,6))\n",
        "plt.plot(positions[:,0], positions[:,1], label=\"Satellite path\")\n",
        "plt.plot(0, 0, 'ro', label=\"Earth center\")\n",
        "plt.gca().set_aspect('equal')\n",
        "plt.title(\"Satellite Orbit Simulation\")\n",
        "plt.legend()\n",
        "plt.xlabel(\"X position (m)\")\n",
        "plt.ylabel(\"Y position (m)\")\n",
        "plt.show()\n",
        "\n"
      ]
    }
  ]
}